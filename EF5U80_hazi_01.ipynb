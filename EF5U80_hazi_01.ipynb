{
    "metadata": {
        "kernelspec": {
            "name": "SQL",
            "display_name": "SQL",
            "language": "sql"
        },
        "language_info": {
            "name": "sql",
            "version": ""
        }
    },
    "nbformat_minor": 2,
    "nbformat": 4,
    "cells": [
        {
            "cell_type": "markdown",
            "source": [
                "**Minimum, maximum, átlag, eloszlások értékei**"
            ],
            "metadata": {
                "language": "sql",
                "azdata_cell_guid": "3d61072b-ce44-48cb-8b5a-bcc1f1ba955d"
            },
            "attachments": {}
        },
        {
            "cell_type": "code",
            "source": [
                "SELECT MIN(LISTAAR) AS min_ertek, \r\n",
                "       MAX(LISTAAR) AS max_ertek, \r\n",
                "       AVG(LISTAAR) AS atlag_ertek, \r\n",
                "       STDEV(LISTAAR) AS normal_eloszlas,\r\n",
                "       VAR(LISTAAR) AS eloszlas\r\n",
                "FROM Termek\r\n",
                "WHERE LISTAAR IS NOT NULL"
            ],
            "metadata": {
                "azdata_cell_guid": "8cad6ce2-c542-4acb-b9e8-9605fb11f5b8",
                "language": "sql",
                "tags": []
            },
            "outputs": [
                {
                    "output_type": "display_data",
                    "data": {
                        "text/html": "(1 row affected)"
                    },
                    "metadata": {}
                },
                {
                    "output_type": "display_data",
                    "data": {
                        "text/html": "Total execution time: 00:00:00.013"
                    },
                    "metadata": {}
                },
                {
                    "output_type": "execute_result",
                    "metadata": {},
                    "execution_count": 8,
                    "data": {
                        "application/vnd.dataresource+json": {
                            "schema": {
                                "fields": [
                                    {
                                        "name": "min_ertek"
                                    },
                                    {
                                        "name": "max_ertek"
                                    },
                                    {
                                        "name": "atlag_ertek"
                                    },
                                    {
                                        "name": "normal_eloszlas"
                                    },
                                    {
                                        "name": "eloszlas"
                                    }
                                ]
                            },
                            "data": [
                                {
                                    "min_ertek": "0",
                                    "max_ertek": "46000",
                                    "atlag_ertek": "786.2813067150635",
                                    "normal_eloszlas": "3602.4811630060694",
                                    "eloszlas": "12977870.529813562"
                                }
                            ]
                        },
                        "text/html": [
                            "<table>",
                            "<tr><th>min_ertek</th><th>max_ertek</th><th>atlag_ertek</th><th>normal_eloszlas</th><th>eloszlas</th></tr>",
                            "<tr><td>0</td><td>46000</td><td>786.2813067150635</td><td>3602.4811630060694</td><td>12977870.529813562</td></tr>",
                            "</table>"
                        ]
                    }
                }
            ],
            "execution_count": 8
        },
        {
            "cell_type": "markdown",
            "source": [
                "**Null értékek és a nem üres értékek közötti arány**"
            ],
            "metadata": {
                "language": "sql",
                "azdata_cell_guid": "3911daa8-68be-42a4-baa8-16783a2da216"
            },
            "attachments": {}
        },
        {
            "cell_type": "code",
            "source": [
                "SELECT sor_ertek,\r\n",
                "    COUNT(sor_ertek) AS sor_szam\r\n",
                "FROM (SELECT\r\n",
                "    CASE\r\n",
                "        WHEN SZALL_CIM IS NULL THEN 'Null'\r\n",
                "        ELSE 'Nem_üres'\r\n",
                "    END AS sor_ertek\r\n",
                "    FROM Rendeles) ROWS\r\n",
                "GROUP BY sor_ertek"
            ],
            "metadata": {
                "azdata_cell_guid": "7a94e7c1-7017-49c1-bf05-c58f46f0deb1",
                "language": "sql",
                "tags": []
            },
            "outputs": [
                {
                    "output_type": "display_data",
                    "data": {
                        "text/html": "(2 rows affected)"
                    },
                    "metadata": {}
                },
                {
                    "output_type": "display_data",
                    "data": {
                        "text/html": "Total execution time: 00:00:00.032"
                    },
                    "metadata": {}
                },
                {
                    "output_type": "execute_result",
                    "metadata": {
                        "azdata_chartOptions": {
                            "type": "pie",
                            "dataDirection": "vertical",
                            "columnsAsLabels": true,
                            "labelFirstColumn": false,
                            "legendPosition": "top"
                        }
                    },
                    "execution_count": 23,
                    "data": {
                        "application/vnd.dataresource+json": {
                            "schema": {
                                "fields": [
                                    {
                                        "name": "sor_ertek"
                                    },
                                    {
                                        "name": "sor_szam"
                                    }
                                ]
                            },
                            "data": [
                                {
                                    "sor_ertek": "Null",
                                    "sor_szam": "21689"
                                },
                                {
                                    "sor_ertek": "Nem_üres",
                                    "sor_szam": "6396"
                                }
                            ]
                        },
                        "text/html": [
                            "<table>",
                            "<tr><th>sor_ertek</th><th>sor_szam</th></tr>",
                            "<tr><td>Null</td><td>21689</td></tr>",
                            "<tr><td>Nem_üres</td><td>6396</td></tr>",
                            "</table>"
                        ]
                    }
                }
            ],
            "execution_count": 23
        },
        {
            "cell_type": "markdown",
            "source": [
                "**Egyedi értékek számának feltárása**"
            ],
            "metadata": {
                "language": "sql",
                "azdata_cell_guid": "f2c3246f-f63d-45ff-badd-9f2d17ec212b"
            },
            "attachments": {}
        },
        {
            "cell_type": "code",
            "source": [
                "SELECT COUNT(DISTINCT [LOGIN]) AS egyedi_ertekek_szama\r\n",
                "FROM Rendeles\r\n",
                "WHERE [LOGIN] IS NOT NULL"
            ],
            "metadata": {
                "azdata_cell_guid": "fd3db596-8ee8-4696-87df-95994c0cc6f4",
                "language": "sql"
            },
            "outputs": [
                {
                    "output_type": "display_data",
                    "data": {
                        "text/html": "(1 row affected)"
                    },
                    "metadata": {}
                },
                {
                    "output_type": "display_data",
                    "data": {
                        "text/html": "Total execution time: 00:00:00.027"
                    },
                    "metadata": {}
                },
                {
                    "output_type": "execute_result",
                    "metadata": {},
                    "execution_count": 32,
                    "data": {
                        "application/vnd.dataresource+json": {
                            "schema": {
                                "fields": [
                                    {
                                        "name": "egyedi_ertekek_szama"
                                    }
                                ]
                            },
                            "data": [
                                {
                                    "egyedi_ertekek_szama": "191"
                                }
                            ]
                        },
                        "text/html": [
                            "<table>",
                            "<tr><th>egyedi_ertekek_szama</th></tr>",
                            "<tr><td>191</td></tr>",
                            "</table>"
                        ]
                    }
                }
            ],
            "execution_count": 32
        },
        {
            "cell_type": "markdown",
            "source": [
                "**10 db random oszlop érték**"
            ],
            "metadata": {
                "language": "sql",
                "azdata_cell_guid": "a3d5f873-7290-4876-b13a-6a437584c33b"
            },
            "attachments": {}
        },
        {
            "cell_type": "code",
            "source": [
                "SELECT TOP (10) REND_DATUM\r\n",
                "FROM Rendeles\r\n",
                "GROUP BY REND_DATUM\r\n",
                "ORDER BY NEWID()"
            ],
            "metadata": {
                "azdata_cell_guid": "1a413dad-51a7-41a8-8335-fe1c73d814e2",
                "language": "sql"
            },
            "outputs": [
                {
                    "output_type": "display_data",
                    "data": {
                        "text/html": "(10 rows affected)"
                    },
                    "metadata": {}
                },
                {
                    "output_type": "display_data",
                    "data": {
                        "text/html": "Total execution time: 00:00:00.017"
                    },
                    "metadata": {}
                },
                {
                    "output_type": "execute_result",
                    "metadata": {},
                    "execution_count": 36,
                    "data": {
                        "application/vnd.dataresource+json": {
                            "schema": {
                                "fields": [
                                    {
                                        "name": "REND_DATUM"
                                    }
                                ]
                            },
                            "data": [
                                {
                                    "REND_DATUM": "2015-09-25"
                                },
                                {
                                    "REND_DATUM": "2015-10-07"
                                },
                                {
                                    "REND_DATUM": "2015-10-14"
                                },
                                {
                                    "REND_DATUM": "2015-12-29"
                                },
                                {
                                    "REND_DATUM": "2015-10-20"
                                },
                                {
                                    "REND_DATUM": "2016-12-21"
                                },
                                {
                                    "REND_DATUM": "2016-05-19"
                                },
                                {
                                    "REND_DATUM": "2015-06-17"
                                },
                                {
                                    "REND_DATUM": "2016-02-29"
                                },
                                {
                                    "REND_DATUM": "2015-06-03"
                                }
                            ]
                        },
                        "text/html": [
                            "<table>",
                            "<tr><th>REND_DATUM</th></tr>",
                            "<tr><td>2015-09-25</td></tr>",
                            "<tr><td>2015-10-07</td></tr>",
                            "<tr><td>2015-10-14</td></tr>",
                            "<tr><td>2015-12-29</td></tr>",
                            "<tr><td>2015-10-20</td></tr>",
                            "<tr><td>2016-12-21</td></tr>",
                            "<tr><td>2016-05-19</td></tr>",
                            "<tr><td>2015-06-17</td></tr>",
                            "<tr><td>2016-02-29</td></tr>",
                            "<tr><td>2015-06-03</td></tr>",
                            "</table>"
                        ]
                    }
                }
            ],
            "execution_count": 36
        }
    ]
}