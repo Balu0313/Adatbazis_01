{
    "metadata": {
        "kernelspec": {
            "name": "SQL",
            "display_name": "SQL",
            "language": "sql"
        },
        "language_info": {
            "name": "sql",
            "version": ""
        }
    },
    "nbformat_minor": 2,
    "nbformat": 4,
    "cells": [
        {
            "cell_type": "code",
            "source": [
                "--1. feladat\r\n",
                "\r\n",
                "Select TIPUS,\r\n",
                "ROUND(AVG(CSILLAGOK_SZAMA), 0)\r\n",
                "from szallashely\r\n",
                "WHERE TIPUS <> 'panzió'\r\n",
                "and CSILLAGOK_SZAMA > 3\r\n",
                "GROUP BY TIPUS"
            ],
            "metadata": {
                "azdata_cell_guid": "97c551a0-fa44-4c1b-9eb7-4fd72dbca168",
                "language": "sql"
            },
            "outputs": [
                {
                    "output_type": "display_data",
                    "data": {
                        "text/html": "(1 row affected)"
                    },
                    "metadata": {}
                },
                {
                    "output_type": "display_data",
                    "data": {
                        "text/html": "Total execution time: 00:00:00.045"
                    },
                    "metadata": {}
                },
                {
                    "output_type": "execute_result",
                    "metadata": {},
                    "execution_count": 1,
                    "data": {
                        "application/vnd.dataresource+json": {
                            "schema": {
                                "fields": [
                                    {
                                        "name": "TIPUS"
                                    },
                                    {
                                        "name": "(No column name)"
                                    }
                                ]
                            },
                            "data": [
                                {
                                    "TIPUS": "Hotel",
                                    "(No column name)": "4"
                                }
                            ]
                        },
                        "text/html": [
                            "<table>",
                            "<tr><th>TIPUS</th><th>(No column name)</th></tr>",
                            "<tr><td>Hotel</td><td>4</td></tr>",
                            "</table>"
                        ]
                    }
                }
            ],
            "execution_count": 1
        },
        {
            "cell_type": "code",
            "source": [
                "--2. feladat\r\n",
                "\r\n",
                "select\r\n",
                "case \r\n",
                "    when year(Vendeg.SZUL_DAT) >= 1985 THEN 'fiatal'\r\n",
                "    when year(Vendeg.SZUL_DAT) < 1970 THEN 'idős'\r\n",
                "    when year(Vendeg.SZUL_DAT) < 1985 and year(Vendeg.SZUL_DAT) >= 1970 then 'középkorú'\r\n",
                "end as 'Kategória',\r\n",
                "COUNT(Foglalas.UGYFEL_FK) as 'Foglalás szám'\r\n",
                "from Vendeg\r\n",
                "JOIN Foglalas\r\n",
                "ON Foglalas.UGYFEL_FK = Vendeg.USERNEV\r\n",
                "WHERE Foglalas.GYERMEK_SZAM + Foglalas.FELNOTT_SZAM >= 2\r\n",
                "GROUP BY case \r\n",
                "    when year(Vendeg.SZUL_DAT) >= 1985 THEN 'fiatal'\r\n",
                "    when year(Vendeg.SZUL_DAT) < 1970 THEN 'idős'\r\n",
                "    when year(Vendeg.SZUL_DAT) < 1985 and year(Vendeg.SZUL_DAT) >= 1970 then 'középkorú'\r\n",
                "end"
            ],
            "metadata": {
                "azdata_cell_guid": "e6f50c8d-d2aa-40af-b2b5-bd1d42085b9f",
                "language": "sql"
            },
            "outputs": [
                {
                    "output_type": "display_data",
                    "data": {
                        "text/html": "(3 rows affected)"
                    },
                    "metadata": {}
                },
                {
                    "output_type": "display_data",
                    "data": {
                        "text/html": "Total execution time: 00:00:00.018"
                    },
                    "metadata": {}
                },
                {
                    "output_type": "execute_result",
                    "execution_count": 9,
                    "data": {
                        "application/vnd.dataresource+json": {
                            "schema": {
                                "fields": [
                                    {
                                        "name": "Kategória"
                                    },
                                    {
                                        "name": "Foglalás szám"
                                    }
                                ]
                            },
                            "data": [
                                {
                                    "Kategória": "fiatal",
                                    "Foglalás szám": "365"
                                },
                                {
                                    "Kategória": "idős",
                                    "Foglalás szám": "96"
                                },
                                {
                                    "Kategória": "középkorú",
                                    "Foglalás szám": "419"
                                }
                            ]
                        },
                        "text/html": "<table><tr><th>Kategória</th><th>Foglalás szám</th></tr><tr><td>fiatal</td><td>365</td></tr><tr><td>idős</td><td>96</td></tr><tr><td>középkorú</td><td>419</td></tr></table>"
                    },
                    "metadata": {}
                }
            ],
            "execution_count": 9
        }
    ]
}