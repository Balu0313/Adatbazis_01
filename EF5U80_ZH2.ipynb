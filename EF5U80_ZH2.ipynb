{
    "metadata": {
        "kernelspec": {
            "name": "SQL",
            "display_name": "SQL",
            "language": "sql"
        },
        "language_info": {
            "name": "sql",
            "version": ""
        }
    },
    "nbformat_minor": 2,
    "nbformat": 4,
    "cells": [
        {
            "cell_type": "markdown",
            "source": [
                "ZH 1. feladat"
            ],
            "metadata": {
                "azdata_cell_guid": "1baea67e-ccca-4dd5-bedf-e85ff90c0ce0"
            },
            "attachments": {}
        },
        {
            "cell_type": "code",
            "source": [
                "SELECT\r\n",
                "IIF(GROUPING_ID(SZOBA_FK) = 1, 'Összeg', CAST(SZOBA_FK AS NVARCHAR(5))) AS 'Szoba azonosítója',\r\n",
                "Count(FOGLALAS_PK) AS 'Foglalások száma'\r\n",
                "FROM Foglalas\r\n",
                "WHERE FELNOTT_SZAM > GYERMEK_SZAM\r\n",
                "GROUP BY ROLLUP(SZOBA_FK)"
            ],
            "metadata": {
                "azdata_cell_guid": "737649b4-cd3b-48f9-932b-8f4394aa5548",
                "language": "sql"
            },
            "outputs": [
                {
                    "output_type": "display_data",
                    "data": {
                        "text/html": "(190 rows affected)"
                    },
                    "metadata": {}
                },
                {
                    "output_type": "display_data",
                    "data": {
                        "text/html": "Total execution time: 00:00:00.019"
                    },
                    "metadata": {}
                },
                {
                    "output_type": "execute_result",
                    "metadata": {},
                    "execution_count": 11,
                    "data": {
                        "application/vnd.dataresource+json": {
                            "schema": {
                                "fields": [
                                    {
                                        "name": "Szoba azonosítója"
                                    },
                                    {
                                        "name": "Foglalások száma"
                                    }
                                ]
                            },
                            "data": [
                                {
                                    "Szoba azonosítója": "1",
                                    "Foglalások száma": "7"
                                },
                                {
                                    "Szoba azonosítója": "2",
                                    "Foglalások száma": "2"
                                },
                                {
                                    "Szoba azonosítója": "3",
                                    "Foglalások száma": "3"
                                },
                                {
                                    "Szoba azonosítója": "4",
                                    "Foglalások száma": "5"
                                },
                                {
                                    "Szoba azonosítója": "5",
                                    "Foglalások száma": "2"
                                },
                                {
                                    "Szoba azonosítója": "6",
                                    "Foglalások száma": "5"
                                },
                                {
                                    "Szoba azonosítója": "7",
                                    "Foglalások száma": "6"
                                },
                                {
                                    "Szoba azonosítója": "8",
                                    "Foglalások száma": "5"
                                },
                                {
                                    "Szoba azonosítója": "9",
                                    "Foglalások száma": "4"
                                },
                                {
                                    "Szoba azonosítója": "10",
                                    "Foglalások száma": "4"
                                },
                                {
                                    "Szoba azonosítója": "11",
                                    "Foglalások száma": "4"
                                },
                                {
                                    "Szoba azonosítója": "12",
                                    "Foglalások száma": "7"
                                },
                                {
                                    "Szoba azonosítója": "13",
                                    "Foglalások száma": "4"
                                },
                                {
                                    "Szoba azonosítója": "14",
                                    "Foglalások száma": "3"
                                },
                                {
                                    "Szoba azonosítója": "15",
                                    "Foglalások száma": "4"
                                },
                                {
                                    "Szoba azonosítója": "16",
                                    "Foglalások száma": "1"
                                },
                                {
                                    "Szoba azonosítója": "17",
                                    "Foglalások száma": "2"
                                },
                                {
                                    "Szoba azonosítója": "18",
                                    "Foglalások száma": "3"
                                },
                                {
                                    "Szoba azonosítója": "19",
                                    "Foglalások száma": "4"
                                },
                                {
                                    "Szoba azonosítója": "20",
                                    "Foglalások száma": "5"
                                },
                                {
                                    "Szoba azonosítója": "21",
                                    "Foglalások száma": "1"
                                },
                                {
                                    "Szoba azonosítója": "22",
                                    "Foglalások száma": "2"
                                },
                                {
                                    "Szoba azonosítója": "23",
                                    "Foglalások száma": "3"
                                },
                                {
                                    "Szoba azonosítója": "24",
                                    "Foglalások száma": "3"
                                },
                                {
                                    "Szoba azonosítója": "25",
                                    "Foglalások száma": "1"
                                },
                                {
                                    "Szoba azonosítója": "27",
                                    "Foglalások száma": "5"
                                },
                                {
                                    "Szoba azonosítója": "28",
                                    "Foglalások száma": "5"
                                },
                                {
                                    "Szoba azonosítója": "29",
                                    "Foglalások száma": "3"
                                },
                                {
                                    "Szoba azonosítója": "30",
                                    "Foglalások száma": "2"
                                },
                                {
                                    "Szoba azonosítója": "31",
                                    "Foglalások száma": "1"
                                },
                                {
                                    "Szoba azonosítója": "32",
                                    "Foglalások száma": "1"
                                },
                                {
                                    "Szoba azonosítója": "33",
                                    "Foglalások száma": "3"
                                },
                                {
                                    "Szoba azonosítója": "34",
                                    "Foglalások száma": "3"
                                },
                                {
                                    "Szoba azonosítója": "35",
                                    "Foglalások száma": "6"
                                },
                                {
                                    "Szoba azonosítója": "36",
                                    "Foglalások száma": "4"
                                },
                                {
                                    "Szoba azonosítója": "37",
                                    "Foglalások száma": "2"
                                },
                                {
                                    "Szoba azonosítója": "38",
                                    "Foglalások száma": "5"
                                },
                                {
                                    "Szoba azonosítója": "39",
                                    "Foglalások száma": "4"
                                },
                                {
                                    "Szoba azonosítója": "40",
                                    "Foglalások száma": "3"
                                },
                                {
                                    "Szoba azonosítója": "41",
                                    "Foglalások száma": "1"
                                },
                                {
                                    "Szoba azonosítója": "42",
                                    "Foglalások száma": "5"
                                },
                                {
                                    "Szoba azonosítója": "43",
                                    "Foglalások száma": "4"
                                },
                                {
                                    "Szoba azonosítója": "44",
                                    "Foglalások száma": "6"
                                },
                                {
                                    "Szoba azonosítója": "45",
                                    "Foglalások száma": "4"
                                },
                                {
                                    "Szoba azonosítója": "46",
                                    "Foglalások száma": "3"
                                },
                                {
                                    "Szoba azonosítója": "47",
                                    "Foglalások száma": "2"
                                },
                                {
                                    "Szoba azonosítója": "48",
                                    "Foglalások száma": "6"
                                },
                                {
                                    "Szoba azonosítója": "49",
                                    "Foglalások száma": "5"
                                },
                                {
                                    "Szoba azonosítója": "50",
                                    "Foglalások száma": "3"
                                },
                                {
                                    "Szoba azonosítója": "51",
                                    "Foglalások száma": "3"
                                },
                                {
                                    "Szoba azonosítója": "52",
                                    "Foglalások száma": "5"
                                },
                                {
                                    "Szoba azonosítója": "54",
                                    "Foglalások száma": "4"
                                },
                                {
                                    "Szoba azonosítója": "55",
                                    "Foglalások száma": "3"
                                },
                                {
                                    "Szoba azonosítója": "56",
                                    "Foglalások száma": "1"
                                },
                                {
                                    "Szoba azonosítója": "57",
                                    "Foglalások száma": "3"
                                },
                                {
                                    "Szoba azonosítója": "58",
                                    "Foglalások száma": "8"
                                },
                                {
                                    "Szoba azonosítója": "59",
                                    "Foglalások száma": "4"
                                },
                                {
                                    "Szoba azonosítója": "60",
                                    "Foglalások száma": "1"
                                },
                                {
                                    "Szoba azonosítója": "61",
                                    "Foglalások száma": "4"
                                },
                                {
                                    "Szoba azonosítója": "62",
                                    "Foglalások száma": "3"
                                },
                                {
                                    "Szoba azonosítója": "63",
                                    "Foglalások száma": "3"
                                },
                                {
                                    "Szoba azonosítója": "64",
                                    "Foglalások száma": "5"
                                },
                                {
                                    "Szoba azonosítója": "66",
                                    "Foglalások száma": "3"
                                },
                                {
                                    "Szoba azonosítója": "67",
                                    "Foglalások száma": "2"
                                },
                                {
                                    "Szoba azonosítója": "69",
                                    "Foglalások száma": "2"
                                },
                                {
                                    "Szoba azonosítója": "70",
                                    "Foglalások száma": "8"
                                },
                                {
                                    "Szoba azonosítója": "71",
                                    "Foglalások száma": "2"
                                },
                                {
                                    "Szoba azonosítója": "72",
                                    "Foglalások száma": "2"
                                },
                                {
                                    "Szoba azonosítója": "73",
                                    "Foglalások száma": "4"
                                },
                                {
                                    "Szoba azonosítója": "74",
                                    "Foglalások száma": "8"
                                },
                                {
                                    "Szoba azonosítója": "75",
                                    "Foglalások száma": "2"
                                },
                                {
                                    "Szoba azonosítója": "76",
                                    "Foglalások száma": "2"
                                },
                                {
                                    "Szoba azonosítója": "77",
                                    "Foglalások száma": "3"
                                },
                                {
                                    "Szoba azonosítója": "78",
                                    "Foglalások száma": "3"
                                },
                                {
                                    "Szoba azonosítója": "79",
                                    "Foglalások száma": "4"
                                },
                                {
                                    "Szoba azonosítója": "80",
                                    "Foglalások száma": "5"
                                },
                                {
                                    "Szoba azonosítója": "81",
                                    "Foglalások száma": "3"
                                },
                                {
                                    "Szoba azonosítója": "82",
                                    "Foglalások száma": "5"
                                },
                                {
                                    "Szoba azonosítója": "83",
                                    "Foglalások száma": "5"
                                },
                                {
                                    "Szoba azonosítója": "84",
                                    "Foglalások száma": "3"
                                },
                                {
                                    "Szoba azonosítója": "85",
                                    "Foglalások száma": "2"
                                },
                                {
                                    "Szoba azonosítója": "86",
                                    "Foglalások száma": "4"
                                },
                                {
                                    "Szoba azonosítója": "87",
                                    "Foglalások száma": "5"
                                },
                                {
                                    "Szoba azonosítója": "88",
                                    "Foglalások száma": "5"
                                },
                                {
                                    "Szoba azonosítója": "89",
                                    "Foglalások száma": "8"
                                },
                                {
                                    "Szoba azonosítója": "90",
                                    "Foglalások száma": "3"
                                },
                                {
                                    "Szoba azonosítója": "91",
                                    "Foglalások száma": "2"
                                },
                                {
                                    "Szoba azonosítója": "92",
                                    "Foglalások száma": "5"
                                },
                                {
                                    "Szoba azonosítója": "93",
                                    "Foglalások száma": "3"
                                },
                                {
                                    "Szoba azonosítója": "94",
                                    "Foglalások száma": "6"
                                },
                                {
                                    "Szoba azonosítója": "95",
                                    "Foglalások száma": "3"
                                },
                                {
                                    "Szoba azonosítója": "96",
                                    "Foglalások száma": "6"
                                },
                                {
                                    "Szoba azonosítója": "97",
                                    "Foglalások száma": "5"
                                },
                                {
                                    "Szoba azonosítója": "98",
                                    "Foglalások száma": "4"
                                },
                                {
                                    "Szoba azonosítója": "99",
                                    "Foglalások száma": "4"
                                },
                                {
                                    "Szoba azonosítója": "100",
                                    "Foglalások száma": "2"
                                },
                                {
                                    "Szoba azonosítója": "101",
                                    "Foglalások száma": "1"
                                },
                                {
                                    "Szoba azonosítója": "102",
                                    "Foglalások száma": "1"
                                },
                                {
                                    "Szoba azonosítója": "103",
                                    "Foglalások száma": "1"
                                },
                                {
                                    "Szoba azonosítója": "104",
                                    "Foglalások száma": "3"
                                },
                                {
                                    "Szoba azonosítója": "106",
                                    "Foglalások száma": "4"
                                },
                                {
                                    "Szoba azonosítója": "107",
                                    "Foglalások száma": "4"
                                },
                                {
                                    "Szoba azonosítója": "108",
                                    "Foglalások száma": "1"
                                },
                                {
                                    "Szoba azonosítója": "109",
                                    "Foglalások száma": "2"
                                },
                                {
                                    "Szoba azonosítója": "110",
                                    "Foglalások száma": "5"
                                },
                                {
                                    "Szoba azonosítója": "111",
                                    "Foglalások száma": "1"
                                },
                                {
                                    "Szoba azonosítója": "112",
                                    "Foglalások száma": "4"
                                },
                                {
                                    "Szoba azonosítója": "113",
                                    "Foglalások száma": "2"
                                },
                                {
                                    "Szoba azonosítója": "114",
                                    "Foglalások száma": "1"
                                },
                                {
                                    "Szoba azonosítója": "115",
                                    "Foglalások száma": "5"
                                },
                                {
                                    "Szoba azonosítója": "117",
                                    "Foglalások száma": "4"
                                },
                                {
                                    "Szoba azonosítója": "118",
                                    "Foglalások száma": "2"
                                },
                                {
                                    "Szoba azonosítója": "119",
                                    "Foglalások száma": "4"
                                },
                                {
                                    "Szoba azonosítója": "120",
                                    "Foglalások száma": "2"
                                },
                                {
                                    "Szoba azonosítója": "121",
                                    "Foglalások száma": "5"
                                },
                                {
                                    "Szoba azonosítója": "122",
                                    "Foglalások száma": "3"
                                },
                                {
                                    "Szoba azonosítója": "123",
                                    "Foglalások száma": "5"
                                },
                                {
                                    "Szoba azonosítója": "124",
                                    "Foglalások száma": "4"
                                },
                                {
                                    "Szoba azonosítója": "126",
                                    "Foglalások száma": "4"
                                },
                                {
                                    "Szoba azonosítója": "127",
                                    "Foglalások száma": "5"
                                },
                                {
                                    "Szoba azonosítója": "129",
                                    "Foglalások száma": "3"
                                },
                                {
                                    "Szoba azonosítója": "130",
                                    "Foglalások száma": "5"
                                },
                                {
                                    "Szoba azonosítója": "131",
                                    "Foglalások száma": "4"
                                },
                                {
                                    "Szoba azonosítója": "132",
                                    "Foglalások száma": "4"
                                },
                                {
                                    "Szoba azonosítója": "133",
                                    "Foglalások száma": "4"
                                },
                                {
                                    "Szoba azonosítója": "134",
                                    "Foglalások száma": "4"
                                },
                                {
                                    "Szoba azonosítója": "135",
                                    "Foglalások száma": "3"
                                },
                                {
                                    "Szoba azonosítója": "136",
                                    "Foglalások száma": "2"
                                },
                                {
                                    "Szoba azonosítója": "137",
                                    "Foglalások száma": "2"
                                },
                                {
                                    "Szoba azonosítója": "138",
                                    "Foglalások száma": "5"
                                },
                                {
                                    "Szoba azonosítója": "139",
                                    "Foglalások száma": "6"
                                },
                                {
                                    "Szoba azonosítója": "140",
                                    "Foglalások száma": "5"
                                },
                                {
                                    "Szoba azonosítója": "141",
                                    "Foglalások száma": "4"
                                },
                                {
                                    "Szoba azonosítója": "142",
                                    "Foglalások száma": "1"
                                },
                                {
                                    "Szoba azonosítója": "143",
                                    "Foglalások száma": "5"
                                },
                                {
                                    "Szoba azonosítója": "144",
                                    "Foglalások száma": "2"
                                },
                                {
                                    "Szoba azonosítója": "145",
                                    "Foglalások száma": "2"
                                },
                                {
                                    "Szoba azonosítója": "146",
                                    "Foglalások száma": "3"
                                },
                                {
                                    "Szoba azonosítója": "147",
                                    "Foglalások száma": "1"
                                },
                                {
                                    "Szoba azonosítója": "148",
                                    "Foglalások száma": "5"
                                },
                                {
                                    "Szoba azonosítója": "149",
                                    "Foglalások száma": "5"
                                },
                                {
                                    "Szoba azonosítója": "150",
                                    "Foglalások száma": "6"
                                },
                                {
                                    "Szoba azonosítója": "151",
                                    "Foglalások száma": "2"
                                },
                                {
                                    "Szoba azonosítója": "152",
                                    "Foglalások száma": "3"
                                },
                                {
                                    "Szoba azonosítója": "153",
                                    "Foglalások száma": "4"
                                },
                                {
                                    "Szoba azonosítója": "154",
                                    "Foglalások száma": "3"
                                },
                                {
                                    "Szoba azonosítója": "155",
                                    "Foglalások száma": "3"
                                },
                                {
                                    "Szoba azonosítója": "156",
                                    "Foglalások száma": "2"
                                },
                                {
                                    "Szoba azonosítója": "157",
                                    "Foglalások száma": "2"
                                },
                                {
                                    "Szoba azonosítója": "158",
                                    "Foglalások száma": "3"
                                },
                                {
                                    "Szoba azonosítója": "160",
                                    "Foglalások száma": "2"
                                },
                                {
                                    "Szoba azonosítója": "161",
                                    "Foglalások száma": "3"
                                },
                                {
                                    "Szoba azonosítója": "162",
                                    "Foglalások száma": "2"
                                },
                                {
                                    "Szoba azonosítója": "163",
                                    "Foglalások száma": "5"
                                },
                                {
                                    "Szoba azonosítója": "164",
                                    "Foglalások száma": "4"
                                },
                                {
                                    "Szoba azonosítója": "165",
                                    "Foglalások száma": "5"
                                },
                                {
                                    "Szoba azonosítója": "166",
                                    "Foglalások száma": "3"
                                },
                                {
                                    "Szoba azonosítója": "167",
                                    "Foglalások száma": "2"
                                },
                                {
                                    "Szoba azonosítója": "168",
                                    "Foglalások száma": "1"
                                },
                                {
                                    "Szoba azonosítója": "169",
                                    "Foglalások száma": "3"
                                },
                                {
                                    "Szoba azonosítója": "170",
                                    "Foglalások száma": "3"
                                },
                                {
                                    "Szoba azonosítója": "171",
                                    "Foglalások száma": "5"
                                },
                                {
                                    "Szoba azonosítója": "172",
                                    "Foglalások száma": "6"
                                },
                                {
                                    "Szoba azonosítója": "173",
                                    "Foglalások száma": "3"
                                },
                                {
                                    "Szoba azonosítója": "174",
                                    "Foglalások száma": "4"
                                },
                                {
                                    "Szoba azonosítója": "175",
                                    "Foglalások száma": "3"
                                },
                                {
                                    "Szoba azonosítója": "176",
                                    "Foglalások száma": "2"
                                },
                                {
                                    "Szoba azonosítója": "177",
                                    "Foglalások száma": "1"
                                },
                                {
                                    "Szoba azonosítója": "178",
                                    "Foglalások száma": "1"
                                },
                                {
                                    "Szoba azonosítója": "179",
                                    "Foglalások száma": "2"
                                },
                                {
                                    "Szoba azonosítója": "180",
                                    "Foglalások száma": "1"
                                },
                                {
                                    "Szoba azonosítója": "181",
                                    "Foglalások száma": "5"
                                },
                                {
                                    "Szoba azonosítója": "182",
                                    "Foglalások száma": "11"
                                },
                                {
                                    "Szoba azonosítója": "183",
                                    "Foglalások száma": "3"
                                },
                                {
                                    "Szoba azonosítója": "184",
                                    "Foglalások száma": "4"
                                },
                                {
                                    "Szoba azonosítója": "185",
                                    "Foglalások száma": "10"
                                },
                                {
                                    "Szoba azonosítója": "186",
                                    "Foglalások száma": "1"
                                },
                                {
                                    "Szoba azonosítója": "187",
                                    "Foglalások száma": "6"
                                },
                                {
                                    "Szoba azonosítója": "188",
                                    "Foglalások száma": "2"
                                },
                                {
                                    "Szoba azonosítója": "189",
                                    "Foglalások száma": "1"
                                },
                                {
                                    "Szoba azonosítója": "190",
                                    "Foglalások száma": "5"
                                },
                                {
                                    "Szoba azonosítója": "191",
                                    "Foglalások száma": "3"
                                },
                                {
                                    "Szoba azonosítója": "192",
                                    "Foglalások száma": "1"
                                },
                                {
                                    "Szoba azonosítója": "193",
                                    "Foglalások száma": "2"
                                },
                                {
                                    "Szoba azonosítója": "194",
                                    "Foglalások száma": "1"
                                },
                                {
                                    "Szoba azonosítója": "195",
                                    "Foglalások száma": "5"
                                },
                                {
                                    "Szoba azonosítója": "196",
                                    "Foglalások száma": "2"
                                },
                                {
                                    "Szoba azonosítója": "197",
                                    "Foglalások száma": "6"
                                },
                                {
                                    "Szoba azonosítója": "198",
                                    "Foglalások száma": "7"
                                },
                                {
                                    "Szoba azonosítója": "Összeg",
                                    "Foglalások száma": "668"
                                }
                            ]
                        },
                        "text/html": [
                            "<table>",
                            "<tr><th>Szoba azonosítója</th><th>Foglalások száma</th></tr>",
                            "<tr><td>1</td><td>7</td></tr>",
                            "<tr><td>2</td><td>2</td></tr>",
                            "<tr><td>3</td><td>3</td></tr>",
                            "<tr><td>4</td><td>5</td></tr>",
                            "<tr><td>5</td><td>2</td></tr>",
                            "<tr><td>6</td><td>5</td></tr>",
                            "<tr><td>7</td><td>6</td></tr>",
                            "<tr><td>8</td><td>5</td></tr>",
                            "<tr><td>9</td><td>4</td></tr>",
                            "<tr><td>10</td><td>4</td></tr>",
                            "<tr><td>11</td><td>4</td></tr>",
                            "<tr><td>12</td><td>7</td></tr>",
                            "<tr><td>13</td><td>4</td></tr>",
                            "<tr><td>14</td><td>3</td></tr>",
                            "<tr><td>15</td><td>4</td></tr>",
                            "<tr><td>16</td><td>1</td></tr>",
                            "<tr><td>17</td><td>2</td></tr>",
                            "<tr><td>18</td><td>3</td></tr>",
                            "<tr><td>19</td><td>4</td></tr>",
                            "<tr><td>20</td><td>5</td></tr>",
                            "<tr><td>21</td><td>1</td></tr>",
                            "<tr><td>22</td><td>2</td></tr>",
                            "<tr><td>23</td><td>3</td></tr>",
                            "<tr><td>24</td><td>3</td></tr>",
                            "<tr><td>25</td><td>1</td></tr>",
                            "<tr><td>27</td><td>5</td></tr>",
                            "<tr><td>28</td><td>5</td></tr>",
                            "<tr><td>29</td><td>3</td></tr>",
                            "<tr><td>30</td><td>2</td></tr>",
                            "<tr><td>31</td><td>1</td></tr>",
                            "<tr><td>32</td><td>1</td></tr>",
                            "<tr><td>33</td><td>3</td></tr>",
                            "<tr><td>34</td><td>3</td></tr>",
                            "<tr><td>35</td><td>6</td></tr>",
                            "<tr><td>36</td><td>4</td></tr>",
                            "<tr><td>37</td><td>2</td></tr>",
                            "<tr><td>38</td><td>5</td></tr>",
                            "<tr><td>39</td><td>4</td></tr>",
                            "<tr><td>40</td><td>3</td></tr>",
                            "<tr><td>41</td><td>1</td></tr>",
                            "<tr><td>42</td><td>5</td></tr>",
                            "<tr><td>43</td><td>4</td></tr>",
                            "<tr><td>44</td><td>6</td></tr>",
                            "<tr><td>45</td><td>4</td></tr>",
                            "<tr><td>46</td><td>3</td></tr>",
                            "<tr><td>47</td><td>2</td></tr>",
                            "<tr><td>48</td><td>6</td></tr>",
                            "<tr><td>49</td><td>5</td></tr>",
                            "<tr><td>50</td><td>3</td></tr>",
                            "<tr><td>51</td><td>3</td></tr>",
                            "<tr><td>52</td><td>5</td></tr>",
                            "<tr><td>54</td><td>4</td></tr>",
                            "<tr><td>55</td><td>3</td></tr>",
                            "<tr><td>56</td><td>1</td></tr>",
                            "<tr><td>57</td><td>3</td></tr>",
                            "<tr><td>58</td><td>8</td></tr>",
                            "<tr><td>59</td><td>4</td></tr>",
                            "<tr><td>60</td><td>1</td></tr>",
                            "<tr><td>61</td><td>4</td></tr>",
                            "<tr><td>62</td><td>3</td></tr>",
                            "<tr><td>63</td><td>3</td></tr>",
                            "<tr><td>64</td><td>5</td></tr>",
                            "<tr><td>66</td><td>3</td></tr>",
                            "<tr><td>67</td><td>2</td></tr>",
                            "<tr><td>69</td><td>2</td></tr>",
                            "<tr><td>70</td><td>8</td></tr>",
                            "<tr><td>71</td><td>2</td></tr>",
                            "<tr><td>72</td><td>2</td></tr>",
                            "<tr><td>73</td><td>4</td></tr>",
                            "<tr><td>74</td><td>8</td></tr>",
                            "<tr><td>75</td><td>2</td></tr>",
                            "<tr><td>76</td><td>2</td></tr>",
                            "<tr><td>77</td><td>3</td></tr>",
                            "<tr><td>78</td><td>3</td></tr>",
                            "<tr><td>79</td><td>4</td></tr>",
                            "<tr><td>80</td><td>5</td></tr>",
                            "<tr><td>81</td><td>3</td></tr>",
                            "<tr><td>82</td><td>5</td></tr>",
                            "<tr><td>83</td><td>5</td></tr>",
                            "<tr><td>84</td><td>3</td></tr>",
                            "<tr><td>85</td><td>2</td></tr>",
                            "<tr><td>86</td><td>4</td></tr>",
                            "<tr><td>87</td><td>5</td></tr>",
                            "<tr><td>88</td><td>5</td></tr>",
                            "<tr><td>89</td><td>8</td></tr>",
                            "<tr><td>90</td><td>3</td></tr>",
                            "<tr><td>91</td><td>2</td></tr>",
                            "<tr><td>92</td><td>5</td></tr>",
                            "<tr><td>93</td><td>3</td></tr>",
                            "<tr><td>94</td><td>6</td></tr>",
                            "<tr><td>95</td><td>3</td></tr>",
                            "<tr><td>96</td><td>6</td></tr>",
                            "<tr><td>97</td><td>5</td></tr>",
                            "<tr><td>98</td><td>4</td></tr>",
                            "<tr><td>99</td><td>4</td></tr>",
                            "<tr><td>100</td><td>2</td></tr>",
                            "<tr><td>101</td><td>1</td></tr>",
                            "<tr><td>102</td><td>1</td></tr>",
                            "<tr><td>103</td><td>1</td></tr>",
                            "<tr><td>104</td><td>3</td></tr>",
                            "<tr><td>106</td><td>4</td></tr>",
                            "<tr><td>107</td><td>4</td></tr>",
                            "<tr><td>108</td><td>1</td></tr>",
                            "<tr><td>109</td><td>2</td></tr>",
                            "<tr><td>110</td><td>5</td></tr>",
                            "<tr><td>111</td><td>1</td></tr>",
                            "<tr><td>112</td><td>4</td></tr>",
                            "<tr><td>113</td><td>2</td></tr>",
                            "<tr><td>114</td><td>1</td></tr>",
                            "<tr><td>115</td><td>5</td></tr>",
                            "<tr><td>117</td><td>4</td></tr>",
                            "<tr><td>118</td><td>2</td></tr>",
                            "<tr><td>119</td><td>4</td></tr>",
                            "<tr><td>120</td><td>2</td></tr>",
                            "<tr><td>121</td><td>5</td></tr>",
                            "<tr><td>122</td><td>3</td></tr>",
                            "<tr><td>123</td><td>5</td></tr>",
                            "<tr><td>124</td><td>4</td></tr>",
                            "<tr><td>126</td><td>4</td></tr>",
                            "<tr><td>127</td><td>5</td></tr>",
                            "<tr><td>129</td><td>3</td></tr>",
                            "<tr><td>130</td><td>5</td></tr>",
                            "<tr><td>131</td><td>4</td></tr>",
                            "<tr><td>132</td><td>4</td></tr>",
                            "<tr><td>133</td><td>4</td></tr>",
                            "<tr><td>134</td><td>4</td></tr>",
                            "<tr><td>135</td><td>3</td></tr>",
                            "<tr><td>136</td><td>2</td></tr>",
                            "<tr><td>137</td><td>2</td></tr>",
                            "<tr><td>138</td><td>5</td></tr>",
                            "<tr><td>139</td><td>6</td></tr>",
                            "<tr><td>140</td><td>5</td></tr>",
                            "<tr><td>141</td><td>4</td></tr>",
                            "<tr><td>142</td><td>1</td></tr>",
                            "<tr><td>143</td><td>5</td></tr>",
                            "<tr><td>144</td><td>2</td></tr>",
                            "<tr><td>145</td><td>2</td></tr>",
                            "<tr><td>146</td><td>3</td></tr>",
                            "<tr><td>147</td><td>1</td></tr>",
                            "<tr><td>148</td><td>5</td></tr>",
                            "<tr><td>149</td><td>5</td></tr>",
                            "<tr><td>150</td><td>6</td></tr>",
                            "<tr><td>151</td><td>2</td></tr>",
                            "<tr><td>152</td><td>3</td></tr>",
                            "<tr><td>153</td><td>4</td></tr>",
                            "<tr><td>154</td><td>3</td></tr>",
                            "<tr><td>155</td><td>3</td></tr>",
                            "<tr><td>156</td><td>2</td></tr>",
                            "<tr><td>157</td><td>2</td></tr>",
                            "<tr><td>158</td><td>3</td></tr>",
                            "<tr><td>160</td><td>2</td></tr>",
                            "<tr><td>161</td><td>3</td></tr>",
                            "<tr><td>162</td><td>2</td></tr>",
                            "<tr><td>163</td><td>5</td></tr>",
                            "<tr><td>164</td><td>4</td></tr>",
                            "<tr><td>165</td><td>5</td></tr>",
                            "<tr><td>166</td><td>3</td></tr>",
                            "<tr><td>167</td><td>2</td></tr>",
                            "<tr><td>168</td><td>1</td></tr>",
                            "<tr><td>169</td><td>3</td></tr>",
                            "<tr><td>170</td><td>3</td></tr>",
                            "<tr><td>171</td><td>5</td></tr>",
                            "<tr><td>172</td><td>6</td></tr>",
                            "<tr><td>173</td><td>3</td></tr>",
                            "<tr><td>174</td><td>4</td></tr>",
                            "<tr><td>175</td><td>3</td></tr>",
                            "<tr><td>176</td><td>2</td></tr>",
                            "<tr><td>177</td><td>1</td></tr>",
                            "<tr><td>178</td><td>1</td></tr>",
                            "<tr><td>179</td><td>2</td></tr>",
                            "<tr><td>180</td><td>1</td></tr>",
                            "<tr><td>181</td><td>5</td></tr>",
                            "<tr><td>182</td><td>11</td></tr>",
                            "<tr><td>183</td><td>3</td></tr>",
                            "<tr><td>184</td><td>4</td></tr>",
                            "<tr><td>185</td><td>10</td></tr>",
                            "<tr><td>186</td><td>1</td></tr>",
                            "<tr><td>187</td><td>6</td></tr>",
                            "<tr><td>188</td><td>2</td></tr>",
                            "<tr><td>189</td><td>1</td></tr>",
                            "<tr><td>190</td><td>5</td></tr>",
                            "<tr><td>191</td><td>3</td></tr>",
                            "<tr><td>192</td><td>1</td></tr>",
                            "<tr><td>193</td><td>2</td></tr>",
                            "<tr><td>194</td><td>1</td></tr>",
                            "<tr><td>195</td><td>5</td></tr>",
                            "<tr><td>196</td><td>2</td></tr>",
                            "<tr><td>197</td><td>6</td></tr>",
                            "<tr><td>198</td><td>7</td></tr>",
                            "<tr><td>Összeg</td><td>668</td></tr>",
                            "</table>"
                        ]
                    }
                }
            ],
            "execution_count": 11
        },
        {
            "cell_type": "markdown",
            "source": [
                "ZH 2. feladat"
            ],
            "metadata": {
                "azdata_cell_guid": "ef0ea41f-dbc4-4ed0-9556-dc742e3018ff"
            },
            "attachments": {}
        },
        {
            "cell_type": "code",
            "source": [
                "SELECT SZALLAS_ID, SZALLAS_NEV, CSILLAGOK_SZAMA,\r\n",
                "IIF(CSILLAGOK_SZAMA >= 3, 'Igen', 'Nem') AS 'Legalább 3 csillagos-e'\r\n",
                "from Szallashely\r\n",
                "WHERE SZALLAS_ID NOT IN(\r\n",
                "    SELECT SZALLAS_FK\r\n",
                "    FROM Szoba\r\n",
                "    WHERE FEROHELY = 3\r\n",
                ")"
            ],
            "metadata": {
                "azdata_cell_guid": "ce58f048-28cf-49c0-9dfd-0c5a1ce079f2",
                "language": "sql"
            },
            "outputs": [
                {
                    "output_type": "display_data",
                    "data": {
                        "text/html": "(2 rows affected)"
                    },
                    "metadata": {}
                },
                {
                    "output_type": "display_data",
                    "data": {
                        "text/html": "Total execution time: 00:00:00.012"
                    },
                    "metadata": {}
                },
                {
                    "output_type": "execute_result",
                    "metadata": {},
                    "execution_count": 6,
                    "data": {
                        "application/vnd.dataresource+json": {
                            "schema": {
                                "fields": [
                                    {
                                        "name": "SZALLAS_ID"
                                    },
                                    {
                                        "name": "SZALLAS_NEV"
                                    },
                                    {
                                        "name": "CSILLAGOK_SZAMA"
                                    },
                                    {
                                        "name": "Legalább 3 csillagos-e"
                                    }
                                ]
                            },
                            "data": [
                                {
                                    "SZALLAS_ID": "19",
                                    "SZALLAS_NEV": "Nyárfás Vendégház",
                                    "CSILLAGOK_SZAMA": "0",
                                    "Legalább 3 csillagos-e": "Nem"
                                },
                                {
                                    "SZALLAS_ID": "21",
                                    "SZALLAS_NEV": "Müller Vendégház",
                                    "CSILLAGOK_SZAMA": "0",
                                    "Legalább 3 csillagos-e": "Nem"
                                }
                            ]
                        },
                        "text/html": [
                            "<table>",
                            "<tr><th>SZALLAS_ID</th><th>SZALLAS_NEV</th><th>CSILLAGOK_SZAMA</th><th>Legalább 3 csillagos-e</th></tr>",
                            "<tr><td>19</td><td>Nyárfás Vendégház</td><td>0</td><td>Nem</td></tr>",
                            "<tr><td>21</td><td>Müller Vendégház</td><td>0</td><td>Nem</td></tr>",
                            "</table>"
                        ]
                    }
                }
            ],
            "execution_count": 6
        }
    ]
}